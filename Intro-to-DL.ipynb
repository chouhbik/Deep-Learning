{
 "cells": [
  {
   "cell_type": "markdown",
   "metadata": {},
   "source": [
    "# Intro to Deep Learning Class\n",
    "\n",
    "### Dataset:\n",
    "- Digits: 10 class handwritten digits\n",
    "- [sklearn.datasets.load_digits](http://scikit-learn.org/stable/modules/generated/sklearn.datasets.load_digits.html#sklearn.datasets.load_digits)£"
   ]
  },
  {
   "cell_type": "code",
   "execution_count": 1,
   "metadata": {},
   "outputs": [],
   "source": [
    "%matplotlib inline\n",
    "import matplotlib.pyplot as plt\n",
    "import numpy as np\n",
    "from sklearn.datasets import load_digits\n",
    "\n",
    "digits = load_digits()"
   ]
  },
  {
   "cell_type": "code",
   "execution_count": 2,
   "metadata": {},
   "outputs": [
    {
     "data": {
      "image/png": "[encoded data removed]",
      "text/plain": [
       "<Figure size 216x216 with 1 Axes>"
      ]
     },
     "metadata": {
      "needs_background": "light"
     },
     "output_type": "display_data"
    }
   ],
   "source": [
    "sample_index = 45\n",
    "plt.figure(figsize=(3, 3))\n",
    "plt.imshow(digits.images[sample_index], cmap=plt.cm.gray_r,\n",
    "           interpolation='nearest')\n",
    "plt.title(\"image label: %d\" % digits.target[sample_index]);"
   ]
  },
  {
   "cell_type": "markdown",
   "metadata": {},
   "source": [
    "### Preprocessing\n",
    "\n",
    "- Normalization\n",
    "- Train / test split"
   ]
  },
  {
   "cell_type": "code",
   "execution_count": 3,
   "metadata": {},
   "outputs": [],
   "source": [
    "from sklearn import preprocessing\n",
    "from sklearn.model_selection import train_test_split\n",
    "\n",
    "# TO DO: \n",
    "# transform the digits.data and the digits.target into numppy arrays\n",
    "data = np.asarray(digits.data, dtype='float32')\n",
    "target = np.asarray(digits.target, dtype='int32')\n",
    "\n",
    "# split the dataset with a test_size=0.15, random_state=37\n",
    "X_train, X_test, y_train, y_test = train_test_split(\n",
    "    data, target, test_size=0.15, random_state=37)\n",
    "\n",
    "# mean = 0 ; standard deviation = 1.0\n",
    "# use the preprocessing.StandardScaler() function of sci-kit learn\n",
    "scaler = preprocessing.StandardScaler()\n",
    "X_train = scaler.fit_transform(X_train)\n",
    "X_test = scaler.transform(X_test)"
   ]
  },
  {
   "cell_type": "markdown",
   "metadata": {},
   "source": [
    "# Numpy Implementation"
   ]
  },
  {
   "cell_type": "code",
   "execution_count": 4,
   "metadata": {},
   "outputs": [],
   "source": [
    "def one_hot(n_classes, y):\n",
    "    return np.eye(n_classes)[y]"
   ]
  },
  {
   "cell_type": "markdown",
   "metadata": {},
   "source": [
    "### The softmax function\n",
    "\n",
    "Now let's implement the softmax vector function:\n",
    "\n",
    "$$\n",
    "softmax(\\mathbf{x}) = \\frac{1}{\\sum_{i=1}^{n}{e^{x_i}}}\n",
    "\\cdot\n",
    "\\begin{bmatrix}\n",
    "  e^{x_1}\\\\\\\\\n",
    "  e^{x_2}\\\\\\\\\n",
    "  \\vdots\\\\\\\\\n",
    "  e^{x_n}\n",
    "\\end{bmatrix}\n",
    "$$"
   ]
  },
  {
   "cell_type": "code",
   "execution_count": 5,
   "metadata": {},
   "outputs": [
    {
     "name": "stdout",
     "output_type": "stream",
     "text": [
      "softmax of a single vector:\n",
      "[9.99662391e-01 3.35349373e-04 2.25956630e-06]\n"
     ]
    }
   ],
   "source": [
    "def softmax(X):\n",
    "    exp = np.exp(X)\n",
    "    return exp / np.sum(exp, axis=-1, keepdims=True)\n",
    "\n",
    "print(\"softmax of a single vector:\")\n",
    "print(softmax([10, 2, -3]))"
   ]
  },
  {
   "cell_type": "code",
   "execution_count": 6,
   "metadata": {},
   "outputs": [],
   "source": [
    "EPSILON=1e-8 # to avoid having log 0 \n",
    "\n",
    "def nll(Y_true, Y_pred):\n",
    "    Y_true = np.asarray(Y_true)\n",
    "    Y_pred = np.asarray(Y_pred)\n",
    "    # TODO\n",
    "    # implement the negative log likelihood here. \n",
    "    Y_true, Y_pred = np.atleast_2d(Y_true), np.atleast_2d(Y_pred)\n",
    "    loglikelihoods = np.sum(np.log(EPSILON + Y_pred) * Y_true, axis=1)\n",
    "    return -np.mean(loglikelihoods)"
   ]
  },
  {
   "cell_type": "code",
   "execution_count": 7,
   "metadata": {},
   "outputs": [],
   "source": [
    "def plot_prediction(model, sample_idx=0, classes=range(10)):\n",
    "    fig, (ax0, ax1) = plt.subplots(nrows=1, ncols=2, figsize=(10, 4))\n",
    "\n",
    "    ax0.imshow(scaler.inverse_transform(X_test[sample_idx]).reshape(8, 8), cmap=plt.cm.gray_r,\n",
    "               interpolation='nearest')\n",
    "    ax0.set_title(\"True image label: %d\" % y_test[sample_idx]);\n",
    "\n",
    "\n",
    "    ax1.bar(classes, one_hot(len(classes), y_test[sample_idx]), label='true')\n",
    "    ax1.bar(classes, model.forward(X_test[sample_idx]), label='prediction', color=\"red\")\n",
    "    ax1.set_xticks(classes)\n",
    "    prediction = model.predict(X_test[sample_idx])\n",
    "    ax1.set_title('Output probabilities (prediction: %d)'\n",
    "                  % prediction)\n",
    "    ax1.set_xlabel('Digit class')\n",
    "    ax1.legend()"
   ]
  },
  {
   "cell_type": "markdown",
   "metadata": {},
   "source": [
    "### Feedforward Multilayer\n",
    "\n",
    "The objective of this section is to implement the backpropagation algorithm (SGD with the chain rule) on a single layer neural network using the sigmoid activation function.\n",
    "\n",
    "- Implement the `sigmoid` and its element-wise derivative `dsigmoid` functions:\n",
    "\n",
    "$$\n",
    "sigmoid(x) = \\frac{1}{1 + e^{-x}}\n",
    "$$\n",
    "\n",
    "$$\n",
    "dsigmoid(x) = sigmoid(x) \\cdot (1 - sigmoid(x))\n",
    "$$"
   ]
  },
  {
   "cell_type": "code",
   "execution_count": 8,
   "metadata": {},
   "outputs": [
    {
     "data": {
      "image/png": "[encoded data removed]",
      "text/plain": [
       "<Figure size 432x288 with 1 Axes>"
      ]
     },
     "metadata": {
      "needs_background": "light"
     },
     "output_type": "display_data"
    }
   ],
   "source": [
    "def sigmoid(X):\n",
    "    return 1 / (1 + np.exp(-X))\n",
    "\n",
    "def dsigmoid(X):\n",
    "    sig=sigmoid(X)\n",
    "    return sig * (1 - sig)\n",
    "\n",
    "\n",
    "x = np.linspace(-5, 5, 100)\n",
    "plt.plot(x, sigmoid(x), label='sigmoid')\n",
    "plt.plot(x, dsigmoid(x), label='dsigmoid')\n",
    "plt.legend(loc='best');"
   ]
  },
  {
   "cell_type": "code",
   "execution_count": 9,
   "metadata": {},
   "outputs": [],
   "source": [
    "class NeuralNet():\n",
    "    \"\"\"MLP with 1 hidden layer with a sigmoid activation\"\"\"\n",
    "\n",
    "    def __init__(self, input_size, hidden_size, output_size):\n",
    "        self.W_h = np.random.uniform(\n",
    "            size=(input_size, hidden_size), high=0.01, low=-0.01)\n",
    "        self.b_h = np.zeros(hidden_size)\n",
    "        self.W_o = np.random.uniform(\n",
    "            size=(hidden_size, output_size), high=0.01, low=-0.01)\n",
    "        self.b_o =np.zeros(output_size)\n",
    "        self.output_size = output_size\n",
    "        \n",
    "    def forward(self, X):\n",
    "        h = sigmoid(np.dot(X, self.W_h) + self.b_h)\n",
    "        y = softmax(np.dot(h, self.W_o) + self.b_o)\n",
    "        return y\n",
    "    \n",
    "    def forward_keep_activations(self, X):\n",
    "        z_h = np.dot(X, self.W_h) + self.b_h\n",
    "        h = sigmoid(z_h)\n",
    "        z_o = np.dot(h, self.W_o) + self.b_o\n",
    "        y = softmax(z_o)\n",
    "        return y, h, z_h\n",
    "    \n",
    "    def loss(self, X, y):\n",
    "        return nll(one_hot(self.output_size, y), self.forward(X))\n",
    "\n",
    "    def grad_loss(self, X, y_true):\n",
    "        y, h, z_h = self.forward_keep_activations(X)\n",
    "        grad_z_o = y - one_hot(self.output_size, y_true)\n",
    "\n",
    "        grad_W_o = np.outer(h, grad_z_o)\n",
    "        grad_b_o = grad_z_o\n",
    "        grad_h = np.dot(grad_z_o, np.transpose(self.W_o))\n",
    "        grad_z_h = grad_h * dsigmoid(z_h)\n",
    "        grad_W_h = np.outer(x, grad_z_h)\n",
    "        grad_b_h = grad_z_h\n",
    "        grads = {\"W_h\": grad_W_h, \"b_h\": grad_b_h,\n",
    "                 \"W_o\": grad_W_o, \"b_o\": grad_b_o}\n",
    "        return grads\n",
    "\n",
    "    def train(self, x, y, learning_rate):\n",
    "        # Traditional SGD update on one sample at a time\n",
    "        grads = self.grad_loss(x, y)\n",
    "        self.W_h = self.W_h - learning_rate * grads[\"W_h\"]\n",
    "        self.b_h = self.b_h - learning_rate * grads[\"b_h\"]\n",
    "        self.W_o = self.W_o - learning_rate * grads[\"W_o\"]\n",
    "        self.b_o = self.b_o - learning_rate * grads[\"b_o\"]\n",
    "\n",
    "    def predict(self, X):\n",
    "        if len(X.shape) == 1:\n",
    "            return np.argmax(self.forward(X))\n",
    "        else:\n",
    "            return np.argmax(self.forward(X), axis=1)\n",
    "\n",
    "    def accuracy(self, X, y):\n",
    "        y_preds = np.argmax(self.forward(X), axis=1)\n",
    "        return np.mean(y_preds == y)"
   ]
  },
  {
   "cell_type": "code",
   "execution_count": 10,
   "metadata": {},
   "outputs": [],
   "source": [
    "n_hidden = 10\n",
    "n_features = X_train.shape[1]\n",
    "n_classes=10\n",
    "model = NeuralNet(n_features, n_hidden, n_classes)"
   ]
  },
  {
   "cell_type": "code",
   "execution_count": 11,
   "metadata": {},
   "outputs": [
    {
     "data": {
      "text/plain": [
       "2.3028488694859552"
      ]
     },
     "execution_count": 11,
     "metadata": {},
     "output_type": "execute_result"
    }
   ],
   "source": [
    "model.loss(X_train, y_train)"
   ]
  },
  {
   "cell_type": "code",
   "execution_count": 12,
   "metadata": {},
   "outputs": [
    {
     "data": {
      "text/plain": [
       "0.10150622134905042"
      ]
     },
     "execution_count": 12,
     "metadata": {},
     "output_type": "execute_result"
    }
   ],
   "source": [
    "model.accuracy(X_train, y_train)"
   ]
  },
  {
   "cell_type": "code",
   "execution_count": 13,
   "metadata": {},
   "outputs": [
    {
     "data": {
      "image/png": "[encoded data removed]",
      "text/plain": [
       "<Figure size 720x288 with 2 Axes>"
      ]
     },
     "metadata": {
      "needs_background": "light"
     },
     "output_type": "display_data"
    }
   ],
   "source": [
    "plot_prediction(model, sample_idx=5)"
   ]
  },
  {
   "cell_type": "code",
   "execution_count": 14,
   "metadata": {},
   "outputs": [
    {
     "name": "stdout",
     "output_type": "stream",
     "text": [
      "Random init: train loss: 2.30285, train acc: 0.102, test acc: 0.096\n",
      "Epoch #1, train loss: 0.39438, train acc: 0.897, test acc: 0.852\n",
      "Epoch #2, train loss: 0.17588, train acc: 0.958, test acc: 0.922\n",
      "Epoch #3, train loss: 0.12032, train acc: 0.973, test acc: 0.937\n",
      "Epoch #4, train loss: 0.08999, train acc: 0.984, test acc: 0.952\n",
      "Epoch #5, train loss: 0.06666, train acc: 0.988, test acc: 0.948\n",
      "Epoch #6, train loss: 0.04916, train acc: 0.992, test acc: 0.959\n",
      "Epoch #7, train loss: 0.04209, train acc: 0.994, test acc: 0.959\n",
      "Epoch #8, train loss: 0.03545, train acc: 0.997, test acc: 0.963\n",
      "Epoch #9, train loss: 0.03029, train acc: 0.998, test acc: 0.963\n",
      "Epoch #10, train loss: 0.02653, train acc: 0.999, test acc: 0.963\n",
      "Epoch #11, train loss: 0.02261, train acc: 1.000, test acc: 0.967\n",
      "Epoch #12, train loss: 0.02013, train acc: 1.000, test acc: 0.963\n",
      "Epoch #13, train loss: 0.01812, train acc: 1.000, test acc: 0.963\n",
      "Epoch #14, train loss: 0.01645, train acc: 1.000, test acc: 0.963\n",
      "Epoch #15, train loss: 0.01506, train acc: 1.000, test acc: 0.963\n"
     ]
    }
   ],
   "source": [
    "losses, accuracies, accuracies_test = [], [], []\n",
    "losses.append(model.loss(X_train, y_train))\n",
    "accuracies.append(model.accuracy(X_train, y_train))\n",
    "accuracies_test.append(model.accuracy(X_test, y_test))\n",
    "\n",
    "print(\"Random init: train loss: %0.5f, train acc: %0.3f, test acc: %0.3f\"\n",
    "      % (losses[-1], accuracies[-1], accuracies_test[-1]))\n",
    "\n",
    "for epoch in range(15):\n",
    "    for i, (x, y) in enumerate(zip(X_train, y_train)):\n",
    "        model.train(x, y, 0.1)\n",
    "\n",
    "    losses.append(model.loss(X_train, y_train))\n",
    "    accuracies.append(model.accuracy(X_train, y_train))\n",
    "    accuracies_test.append(model.accuracy(X_test, y_test))\n",
    "    print(\"Epoch #%d, train loss: %0.5f, train acc: %0.3f, test acc: %0.3f\"\n",
    "          % (epoch + 1, losses[-1], accuracies[-1], accuracies_test[-1]))"
   ]
  },
  {
   "cell_type": "code",
   "execution_count": 15,
   "metadata": {},
   "outputs": [
    {
     "data": {
      "image/png": "[encoded data removed]",
      "text/plain": [
       "<Figure size 432x288 with 1 Axes>"
      ]
     },
     "metadata": {
      "needs_background": "light"
     },
     "output_type": "display_data"
    }
   ],
   "source": [
    "plt.plot(losses)\n",
    "plt.title(\"Training loss\");"
   ]
  },
  {
   "cell_type": "code",
   "execution_count": 16,
   "metadata": {},
   "outputs": [
    {
     "data": {
      "image/png": "[encoded data removed]",
      "text/plain": [
       "<Figure size 432x288 with 1 Axes>"
      ]
     },
     "metadata": {
      "needs_background": "light"
     },
     "output_type": "display_data"
    }
   ],
   "source": [
    "plt.plot(accuracies, label='train')\n",
    "plt.plot(accuracies_test, label='test')\n",
    "plt.ylim(0, 1.1)\n",
    "plt.ylabel(\"accuracy\")\n",
    "plt.legend(loc='best');"
   ]
  },
  {
   "cell_type": "code",
   "execution_count": 17,
   "metadata": {},
   "outputs": [
    {
     "data": {
      "image/png": "[encoded data removed]",
      "text/plain": [
       "<Figure size 720x288 with 2 Axes>"
      ]
     },
     "metadata": {
      "needs_background": "light"
     },
     "output_type": "display_data"
    }
   ],
   "source": [
    "plot_prediction(model, sample_idx=4)"
   ]
  },
  {
   "cell_type": "markdown",
   "metadata": {},
   "source": [
    "## Exercice 1.\n",
    "\n",
    "### Look at worst prediction errors\n",
    "\n",
    "- Use numpy to find test samples for which the model made the worst predictions,\n",
    "- Use the `plot_prediction` to look at the model predictions on those,\n",
    "- Would you have done any better?"
   ]
  },
  {
   "cell_type": "markdown",
   "metadata": {
    "collapsed": true
   },
   "source": [
    "### Hyper parameters settings\n",
    "\n",
    "- Experiment with different hyper parameters:\n",
    "  - learning rate,\n",
    "  - size of hidden layer,\n",
    "  - implement the support for a second hidden layer.\n",
    "\n",
    "\n",
    "### Mini-batches\n",
    "\n",
    "- The current implementations of `train` and `grad_loss` function currently only accept a single sample at a time:\n",
    "    - implement the support for training with a mini-batch of 32 samples at a time instead of one,\n",
    "    - experiment with different sizes of batches,\n",
    "    - monitor the norm of the average gradients on the full training set at the end of each epoch.\n",
    "\n",
    "\n",
    "### Momentum\n",
    "\n",
    "- **Bonus: Implement momentum**\n",
    "\n",
    "\n",
    "### Back to Keras\n",
    "\n",
    "- Implement the same network architecture with Keras;\n",
    "\n",
    "- Check that the Keras model can approximately reproduce the behavior of the Numpy model when using similar hyperparameter values (size of the model, type of activations, learning rate value and use of momentum);\n",
    "\n",
    "- Compute the negative log likelihood of a sample 42 in the test set (can use `model.predict_proba`);\n",
    "\n",
    "- Compute the average negative log-likelihood on the full test set.\n",
    "\n",
    "- Compute the average negative log-likelihood  on the full training set and check that you can get the value of the loss reported by Keras.\n",
    "\n",
    "- Is the model overfitting or underfitting? (ensure that the model has fully converged by increasing the number of epochs to 50 or more if necessary)."
   ]
  },
  {
   "cell_type": "markdown",
   "metadata": {},
   "source": [
    "# Réponses :\n",
    "\n",
    "\n",
    "### Look at worst prediction errors\n",
    "\n",
    "- Use numpy to find test samples for which the model made the worst predictions,\n",
    "- Use the `plot_prediction` to look at the model predictions on those,\n",
    "- Would you have done any better?"
   ]
  },
  {
   "cell_type": "code",
   "execution_count": null,
   "metadata": {},
   "outputs": [],
   "source": []
  },
  {
   "cell_type": "markdown",
   "metadata": {},
   "source": [
    "### Hyper parameters settings\n",
    "\n",
    "- Experiment with different hyper parameters:\n",
    "  - learning rate,\n",
    "  - size of hidden layer,\n",
    "  - implement the support for a second hidden layer."
   ]
  },
  {
   "cell_type": "code",
   "execution_count": 26,
   "metadata": {},
   "outputs": [
    {
     "name": "stdout",
     "output_type": "stream",
     "text": [
      "Learning rate : #0.01,Epoch #1, train loss: 2.29339, train acc: 0.166, test acc: 0.133\n",
      "Learning rate : #0.01,Epoch #2, train loss: 1.91656, train acc: 0.379, test acc: 0.330\n",
      "Learning rate : #0.01,Epoch #3, train loss: 1.39233, train acc: 0.663, test acc: 0.622\n",
      "Learning rate : #0.01,Epoch #4, train loss: 1.03014, train acc: 0.776, test acc: 0.737\n",
      "Learning rate : #0.01,Epoch #5, train loss: 0.77926, train acc: 0.828, test acc: 0.804\n",
      "Learning rate : #0.01,Epoch #6, train loss: 0.61307, train acc: 0.863, test acc: 0.822\n",
      "Learning rate : #0.01,Epoch #7, train loss: 0.49821, train acc: 0.893, test acc: 0.870\n",
      "Learning rate : #0.01,Epoch #8, train loss: 0.41574, train acc: 0.919, test acc: 0.893\n",
      "Learning rate : #0.01,Epoch #9, train loss: 0.35437, train acc: 0.936, test acc: 0.930\n",
      "Learning rate : #0.01,Epoch #10, train loss: 0.30711, train acc: 0.952, test acc: 0.948\n",
      "Learning rate : #0.01,Epoch #11, train loss: 0.26989, train acc: 0.962, test acc: 0.948\n",
      "Learning rate : #0.01,Epoch #12, train loss: 0.24019, train acc: 0.968, test acc: 0.952\n",
      "Learning rate : #0.01,Epoch #13, train loss: 0.21620, train acc: 0.971, test acc: 0.956\n",
      "Learning rate : #0.01,Epoch #14, train loss: 0.19660, train acc: 0.975, test acc: 0.956\n",
      "Learning rate : #0.01,Epoch #15, train loss: 0.18042, train acc: 0.976, test acc: 0.963\n",
      "Learning rate : #0.10,Epoch #1, train loss: 0.16300, train acc: 0.961, test acc: 0.915\n",
      "Learning rate : #0.10,Epoch #2, train loss: 0.11312, train acc: 0.972, test acc: 0.948\n",
      "Learning rate : #0.10,Epoch #3, train loss: 0.08370, train acc: 0.982, test acc: 0.956\n",
      "Learning rate : #0.10,Epoch #4, train loss: 0.06259, train acc: 0.988, test acc: 0.959\n",
      "Learning rate : #0.10,Epoch #5, train loss: 0.05050, train acc: 0.990, test acc: 0.963\n",
      "Learning rate : #0.10,Epoch #6, train loss: 0.04132, train acc: 0.993, test acc: 0.970\n",
      "Learning rate : #0.10,Epoch #7, train loss: 0.03499, train acc: 0.995, test acc: 0.967\n",
      "Learning rate : #0.10,Epoch #8, train loss: 0.03085, train acc: 0.997, test acc: 0.974\n",
      "Learning rate : #0.10,Epoch #9, train loss: 0.02808, train acc: 0.998, test acc: 0.974\n",
      "Learning rate : #0.10,Epoch #10, train loss: 0.02596, train acc: 0.999, test acc: 0.974\n",
      "Learning rate : #0.10,Epoch #11, train loss: 0.02414, train acc: 0.999, test acc: 0.970\n",
      "Learning rate : #0.10,Epoch #12, train loss: 0.02227, train acc: 0.999, test acc: 0.974\n",
      "Learning rate : #0.10,Epoch #13, train loss: 0.02066, train acc: 0.999, test acc: 0.974\n",
      "Learning rate : #0.10,Epoch #14, train loss: 0.01923, train acc: 0.999, test acc: 0.974\n",
      "Learning rate : #0.10,Epoch #15, train loss: 0.01796, train acc: 0.999, test acc: 0.974\n",
      "Learning rate : #0.50,Epoch #1, train loss: 0.42502, train acc: 0.881, test acc: 0.893\n",
      "Learning rate : #0.50,Epoch #2, train loss: 0.35346, train acc: 0.895, test acc: 0.878\n",
      "Learning rate : #0.50,Epoch #3, train loss: 0.29330, train acc: 0.917, test acc: 0.911\n",
      "Learning rate : #0.50,Epoch #4, train loss: 0.33485, train acc: 0.902, test acc: 0.881\n",
      "Learning rate : #0.50,Epoch #5, train loss: 0.23225, train acc: 0.930, test acc: 0.919\n",
      "Learning rate : #0.50,Epoch #6, train loss: 0.35401, train acc: 0.893, test acc: 0.863\n",
      "Learning rate : #0.50,Epoch #7, train loss: 0.24019, train acc: 0.925, test acc: 0.900\n",
      "Learning rate : #0.50,Epoch #8, train loss: 0.29264, train acc: 0.914, test acc: 0.878\n",
      "Learning rate : #0.50,Epoch #9, train loss: 0.17780, train acc: 0.947, test acc: 0.941\n",
      "Learning rate : #0.50,Epoch #10, train loss: 0.23030, train acc: 0.931, test acc: 0.915\n",
      "Learning rate : #0.50,Epoch #11, train loss: 0.15532, train acc: 0.951, test acc: 0.941\n",
      "Learning rate : #0.50,Epoch #12, train loss: 0.14643, train acc: 0.953, test acc: 0.904\n",
      "Learning rate : #0.50,Epoch #13, train loss: 0.18485, train acc: 0.952, test acc: 0.930\n",
      "Learning rate : #0.50,Epoch #14, train loss: 0.26198, train acc: 0.925, test acc: 0.904\n",
      "Learning rate : #0.50,Epoch #15, train loss: 0.32207, train acc: 0.921, test acc: 0.881\n",
      "Learning rate : #1.00,Epoch #1, train loss: 0.59943, train acc: 0.872, test acc: 0.859\n",
      "Learning rate : #1.00,Epoch #2, train loss: 1.26063, train acc: 0.768, test acc: 0.789\n",
      "Learning rate : #1.00,Epoch #3, train loss: 0.99212, train acc: 0.800, test acc: 0.789\n",
      "Learning rate : #1.00,Epoch #4, train loss: 0.71183, train acc: 0.853, test acc: 0.800\n",
      "Learning rate : #1.00,Epoch #5, train loss: 0.78647, train acc: 0.861, test acc: 0.826\n",
      "Learning rate : #1.00,Epoch #6, train loss: 0.84462, train acc: 0.840, test acc: 0.785\n",
      "Learning rate : #1.00,Epoch #7, train loss: 0.90043, train acc: 0.841, test acc: 0.815\n",
      "Learning rate : #1.00,Epoch #8, train loss: 0.76754, train acc: 0.830, test acc: 0.781\n",
      "Learning rate : #1.00,Epoch #9, train loss: 1.28195, train acc: 0.759, test acc: 0.730\n",
      "Learning rate : #1.00,Epoch #10, train loss: 1.02074, train acc: 0.761, test acc: 0.744\n",
      "Learning rate : #1.00,Epoch #11, train loss: 0.63943, train acc: 0.881, test acc: 0.870\n",
      "Learning rate : #1.00,Epoch #12, train loss: 0.49202, train acc: 0.904, test acc: 0.900\n",
      "Learning rate : #1.00,Epoch #13, train loss: 0.60827, train acc: 0.881, test acc: 0.870\n",
      "Learning rate : #1.00,Epoch #14, train loss: 0.46789, train acc: 0.908, test acc: 0.870\n",
      "Learning rate : #1.00,Epoch #15, train loss: 0.83422, train acc: 0.845, test acc: 0.811\n"
     ]
    }
   ],
   "source": [
    "learning_rates = [0.01, 0.1, 0.5 , 1]\n",
    "model = NeuralNet(n_features, n_hidden, n_classes)\n",
    "losses, accuracies, accuracies_test = [], [], []\n",
    "\n",
    "for lr in learning_rates:\n",
    "    for epoch in range(15):\n",
    "        for i, (x, y) in enumerate(zip(X_train, y_train)):\n",
    "            model.train(x, y, lr)\n",
    "\n",
    "        losses.append(model.loss(X_train, y_train))\n",
    "        accuracies.append(model.accuracy(X_train, y_train))\n",
    "        accuracies_test.append(model.accuracy(X_test, y_test))\n",
    "        print(\"Learning rate : #%0.2f,Epoch #%d, train loss: %0.5f, train acc: %0.3f, test acc: %0.3f\"\n",
    "          % (lr,epoch + 1, losses[-1], accuracies[-1], accuracies_test[-1]))"
   ]
  },
  {
   "cell_type": "code",
   "execution_count": 25,
   "metadata": {
    "scrolled": true
   },
   "outputs": [
    {
     "name": "stdout",
     "output_type": "stream",
     "text": [
      "size of hidden layer : #5,Epoch #1, train loss: 0.67671, train acc: 0.845, test acc: 0.815\n",
      "size of hidden layer : #5,Epoch #2, train loss: 0.33441, train acc: 0.923, test acc: 0.881\n",
      "size of hidden layer : #5,Epoch #3, train loss: 0.26108, train acc: 0.936, test acc: 0.893\n",
      "size of hidden layer : #5,Epoch #4, train loss: 0.25479, train acc: 0.929, test acc: 0.863\n",
      "size of hidden layer : #5,Epoch #5, train loss: 0.20808, train acc: 0.948, test acc: 0.889\n",
      "size of hidden layer : #5,Epoch #6, train loss: 0.17981, train acc: 0.955, test acc: 0.915\n",
      "size of hidden layer : #5,Epoch #7, train loss: 0.16308, train acc: 0.961, test acc: 0.907\n",
      "size of hidden layer : #5,Epoch #8, train loss: 0.15485, train acc: 0.963, test acc: 0.915\n",
      "size of hidden layer : #5,Epoch #9, train loss: 0.15806, train acc: 0.959, test acc: 0.900\n",
      "size of hidden layer : #5,Epoch #10, train loss: 0.15267, train acc: 0.955, test acc: 0.907\n",
      "size of hidden layer : #5,Epoch #11, train loss: 0.17368, train acc: 0.954, test acc: 0.900\n",
      "size of hidden layer : #5,Epoch #12, train loss: 0.14611, train acc: 0.962, test acc: 0.896\n",
      "size of hidden layer : #5,Epoch #13, train loss: 0.17324, train acc: 0.951, test acc: 0.893\n",
      "size of hidden layer : #5,Epoch #14, train loss: 0.17112, train acc: 0.948, test acc: 0.867\n",
      "size of hidden layer : #5,Epoch #15, train loss: 0.17003, train acc: 0.948, test acc: 0.904\n",
      "size of hidden layer : #10,Epoch #1, train loss: 0.36872, train acc: 0.919, test acc: 0.893\n",
      "size of hidden layer : #10,Epoch #2, train loss: 0.18499, train acc: 0.959, test acc: 0.915\n",
      "size of hidden layer : #10,Epoch #3, train loss: 0.12551, train acc: 0.971, test acc: 0.937\n",
      "size of hidden layer : #10,Epoch #4, train loss: 0.09617, train acc: 0.977, test acc: 0.941\n",
      "size of hidden layer : #10,Epoch #5, train loss: 0.07972, train acc: 0.982, test acc: 0.933\n",
      "size of hidden layer : #10,Epoch #6, train loss: 0.05998, train acc: 0.990, test acc: 0.941\n",
      "size of hidden layer : #10,Epoch #7, train loss: 0.04672, train acc: 0.993, test acc: 0.956\n",
      "size of hidden layer : #10,Epoch #8, train loss: 0.03943, train acc: 0.995, test acc: 0.959\n",
      "size of hidden layer : #10,Epoch #9, train loss: 0.03298, train acc: 0.997, test acc: 0.956\n",
      "size of hidden layer : #10,Epoch #10, train loss: 0.02936, train acc: 0.997, test acc: 0.963\n",
      "size of hidden layer : #10,Epoch #11, train loss: 0.02621, train acc: 0.997, test acc: 0.967\n",
      "size of hidden layer : #10,Epoch #12, train loss: 0.02294, train acc: 0.998, test acc: 0.967\n",
      "size of hidden layer : #10,Epoch #13, train loss: 0.02085, train acc: 0.998, test acc: 0.967\n",
      "size of hidden layer : #10,Epoch #14, train loss: 0.01895, train acc: 0.999, test acc: 0.967\n",
      "size of hidden layer : #10,Epoch #15, train loss: 0.01741, train acc: 0.999, test acc: 0.967\n",
      "size of hidden layer : #15,Epoch #1, train loss: 0.30198, train acc: 0.927, test acc: 0.900\n",
      "size of hidden layer : #15,Epoch #2, train loss: 0.12829, train acc: 0.974, test acc: 0.948\n",
      "size of hidden layer : #15,Epoch #3, train loss: 0.07613, train acc: 0.990, test acc: 0.959\n",
      "size of hidden layer : #15,Epoch #4, train loss: 0.05053, train acc: 0.993, test acc: 0.967\n",
      "size of hidden layer : #15,Epoch #5, train loss: 0.03870, train acc: 0.996, test acc: 0.963\n",
      "size of hidden layer : #15,Epoch #6, train loss: 0.03088, train acc: 0.997, test acc: 0.963\n",
      "size of hidden layer : #15,Epoch #7, train loss: 0.02538, train acc: 0.998, test acc: 0.963\n",
      "size of hidden layer : #15,Epoch #8, train loss: 0.02121, train acc: 1.000, test acc: 0.963\n",
      "size of hidden layer : #15,Epoch #9, train loss: 0.01792, train acc: 1.000, test acc: 0.963\n",
      "size of hidden layer : #15,Epoch #10, train loss: 0.01535, train acc: 1.000, test acc: 0.967\n",
      "size of hidden layer : #15,Epoch #11, train loss: 0.01337, train acc: 1.000, test acc: 0.967\n",
      "size of hidden layer : #15,Epoch #12, train loss: 0.01181, train acc: 1.000, test acc: 0.970\n",
      "size of hidden layer : #15,Epoch #13, train loss: 0.01057, train acc: 1.000, test acc: 0.970\n",
      "size of hidden layer : #15,Epoch #14, train loss: 0.00958, train acc: 1.000, test acc: 0.970\n",
      "size of hidden layer : #15,Epoch #15, train loss: 0.00876, train acc: 1.000, test acc: 0.970\n",
      "size of hidden layer : #20,Epoch #1, train loss: 0.26791, train acc: 0.934, test acc: 0.896\n",
      "size of hidden layer : #20,Epoch #2, train loss: 0.12653, train acc: 0.971, test acc: 0.944\n",
      "size of hidden layer : #20,Epoch #3, train loss: 0.07891, train acc: 0.982, test acc: 0.956\n",
      "size of hidden layer : #20,Epoch #4, train loss: 0.05192, train acc: 0.991, test acc: 0.959\n",
      "size of hidden layer : #20,Epoch #5, train loss: 0.03807, train acc: 0.995, test acc: 0.963\n",
      "size of hidden layer : #20,Epoch #6, train loss: 0.02935, train acc: 0.997, test acc: 0.963\n",
      "size of hidden layer : #20,Epoch #7, train loss: 0.02365, train acc: 0.998, test acc: 0.963\n",
      "size of hidden layer : #20,Epoch #8, train loss: 0.01873, train acc: 0.999, test acc: 0.963\n",
      "size of hidden layer : #20,Epoch #9, train loss: 0.01530, train acc: 0.999, test acc: 0.963\n",
      "size of hidden layer : #20,Epoch #10, train loss: 0.01313, train acc: 0.999, test acc: 0.963\n",
      "size of hidden layer : #20,Epoch #11, train loss: 0.01145, train acc: 1.000, test acc: 0.963\n",
      "size of hidden layer : #20,Epoch #12, train loss: 0.00973, train acc: 1.000, test acc: 0.967\n",
      "size of hidden layer : #20,Epoch #13, train loss: 0.00857, train acc: 1.000, test acc: 0.967\n",
      "size of hidden layer : #20,Epoch #14, train loss: 0.00770, train acc: 1.000, test acc: 0.967\n",
      "size of hidden layer : #20,Epoch #15, train loss: 0.00698, train acc: 1.000, test acc: 0.967\n"
     ]
    }
   ],
   "source": [
    "hidden_layer_sizes = [5, 10, 15, 20]\n",
    "\n",
    "losses, accuracies, accuracies_test = [], [], []\n",
    "\n",
    "for size in hidden_layer_sizes:\n",
    "    model = NeuralNet(n_features, size, n_classes)\n",
    "    for epoch in range(15):\n",
    "        for i, (x, y) in enumerate(zip(X_train, y_train)):\n",
    "            model.train(x, y, 0.1)\n",
    "        losses.append(model.loss(X_train, y_train))\n",
    "        accuracies.append(model.accuracy(X_train, y_train))\n",
    "        accuracies_test.append(model.accuracy(X_test, y_test))\n",
    "        print(\"size of hidden layer : #%d,Epoch #%d, train loss: %0.5f, train acc: %0.3f, test acc: %0.3f\"\n",
    "        % (size,epoch + 1, losses[-1], accuracies[-1], accuracies_test[-1]))"
   ]
  },
  {
   "cell_type": "code",
   "execution_count": 98,
   "metadata": {},
   "outputs": [],
   "source": [
    "#Def du second layer\n",
    "\n",
    "class NeuralNet2HL():\n",
    "\n",
    "    def __init__(self, input_size, hidden_size1,hidden_size2, output_size):\n",
    "        self.W_h1 = np.random.uniform(\n",
    "            size=(input_size, hidden_size1), high=0.01, low=-0.01)\n",
    "        self.W_h2 = np.random.uniform(\n",
    "            size=(input_size, hidden_size2), high=0.01, low=-0.01)\n",
    "        self.b_h1 = np.zeros(hidden_size1)\n",
    "        self.b_h2 = np.zeros(hidden_size2)\n",
    "        self.W_o = np.random.uniform(\n",
    "            size=(hidden_size2, output_size), high=0.01, low=-0.01)\n",
    "        self.b_o =np.zeros(output_size)\n",
    "        self.output_size = output_size\n",
    "        \n",
    "    def forward(self, X):\n",
    "        z_h1 = np.dot(X, self.W_h1) + self.b_h1\n",
    "        h1 = sigmoid(np.dot(X, self.W_h1) + self.b_h1)\n",
    "        z_h2 = np.dot(h1, self.W_h2) + self.b_h2\n",
    "        h2 = sigmoid(np.dot(X, self.W_h2) + self.b_h2)\n",
    "        y = softmax(np.dot(h2, self.W_o) + self.b_o)\n",
    "        return y\n",
    "    \n",
    "    def forward_keep_activations(self, X):\n",
    "        z_h1 = np.dot(X, self.W_h1) + self.b_h1\n",
    "        h1 = sigmoid(z_h1)\n",
    "        z_h2 = np.dot(X, self.W_h2) + self.b_h2\n",
    "        h2 = sigmoid(z_h2)\n",
    "        z_o = np.dot(h2, self.W_o) + self.b_o\n",
    "        y = softmax(z_o)\n",
    "        return y, h1, z_h1, h2 , z_h2\n",
    "    \n",
    "    def loss(self, X, y):\n",
    "        return nll(one_hot(self.output_size, y), self.forward(X))\n",
    "\n",
    "    def grad_loss(self, X, y_true):\n",
    "        y, h1, z_h1, h2, z_h2 = self.forward_keep_activations(X)\n",
    "        \n",
    "        grad_z_o = y - one_hot(self.output_size, y_true)\n",
    "        grad_W_o = np.outer(h2, grad_z_o)\n",
    "        grad_b_o = grad_z_o\n",
    "        \n",
    "        grad_h2 = np.dot(grad_z_o, np.transpose(self.W_o))\n",
    "        grad_z_h2 = grad_h2 * dsigmoid(z_h2)\n",
    "        grad_W_h2 = np.outer(h1, grad_z_h2)\n",
    "        grad_b_h2 = grad_z_h2\n",
    "        \n",
    "        grad_h1 = np.dot(grad_z_h2, np.transpose(self.W_h2))\n",
    "        grad_z_h1 = grad_h1 * dsigmoid(z_h1)\n",
    "        grad_W_h1 = np.outer(X, grad_z_h1)\n",
    "        grad_b_h1 = grad_z_h1\n",
    "        \n",
    "        grads = {\"W_h1\": grad_W_h1, \"b_h1\": grad_b_h1, \"W_h2\": grad_W_h2, \"b_h2\": grad_b_h2,\n",
    "                 \"W_o\": grad_W_o, \"b_o\": grad_b_o}\n",
    "        return grads\n",
    "\n",
    "    def train(self, x, y, learning_rate):\n",
    "        # Traditional SGD update on one sample at a time\n",
    "        grads = self.grad_loss(x, y)\n",
    "        self.W_h1 = self.W_h1 - learning_rate * grads[\"W_h1\"]\n",
    "        self.b_h1 = self.b_h1 - learning_rate * grads[\"b_h1\"]\n",
    "        self.W_h2 = self.W_h2 - learning_rate * grads[\"W_h2\"]\n",
    "        self.b_h2 = self.b_h2 - learning_rate * grads[\"b_h2\"]\n",
    "        self.W_o = self.W_o - learning_rate * grads[\"W_o\"]\n",
    "        self.b_o = self.b_o - learning_rate * grads[\"b_o\"]\n",
    "\n",
    "    def predict(self, X):\n",
    "        if len(X.shape) == 1:\n",
    "            return np.argmax(self.forward(X))\n",
    "        else:\n",
    "            return np.argmax(self.forward(X), axis=1)\n",
    "\n",
    "    def accuracy(self, X, y):\n",
    "        y_preds = np.argmax(self.forward(X), axis=1)\n",
    "        return np.mean(y_preds == y)"
   ]
  },
  {
   "cell_type": "code",
   "execution_count": 99,
   "metadata": {},
   "outputs": [],
   "source": [
    "n_hidden1 = 10\n",
    "n_hidden2 = 6\n",
    "model = NeuralNet2HL(n_features, n_hidden1, n_hidden2, n_classes)"
   ]
  },
  {
   "cell_type": "code",
   "execution_count": 100,
   "metadata": {},
   "outputs": [
    {
     "ename": "ValueError",
     "evalue": "shapes (1527,10) and (64,6) not aligned: 10 (dim 1) != 64 (dim 0)",
     "output_type": "error",
     "traceback": [
      "\u001b[1;31m---------------------------------------------------------------------------\u001b[0m",
      "\u001b[1;31mValueError\u001b[0m                                Traceback (most recent call last)",
      "\u001b[1;32m<ipython-input-100-87f82aa7c1b5>\u001b[0m in \u001b[0;36m<module>\u001b[1;34m\u001b[0m\n\u001b[0;32m      1\u001b[0m \u001b[0mlosses\u001b[0m\u001b[1;33m,\u001b[0m \u001b[0maccuracies\u001b[0m\u001b[1;33m,\u001b[0m \u001b[0maccuracies_test\u001b[0m \u001b[1;33m=\u001b[0m \u001b[1;33m[\u001b[0m\u001b[1;33m]\u001b[0m\u001b[1;33m,\u001b[0m \u001b[1;33m[\u001b[0m\u001b[1;33m]\u001b[0m\u001b[1;33m,\u001b[0m \u001b[1;33m[\u001b[0m\u001b[1;33m]\u001b[0m\u001b[1;33m\u001b[0m\u001b[1;33m\u001b[0m\u001b[0m\n\u001b[1;32m----> 2\u001b[1;33m \u001b[0mlosses\u001b[0m\u001b[1;33m.\u001b[0m\u001b[0mappend\u001b[0m\u001b[1;33m(\u001b[0m\u001b[0mmodel\u001b[0m\u001b[1;33m.\u001b[0m\u001b[0mloss\u001b[0m\u001b[1;33m(\u001b[0m\u001b[0mX_train\u001b[0m\u001b[1;33m,\u001b[0m \u001b[0my_train\u001b[0m\u001b[1;33m)\u001b[0m\u001b[1;33m)\u001b[0m\u001b[1;33m\u001b[0m\u001b[1;33m\u001b[0m\u001b[0m\n\u001b[0m\u001b[0;32m      3\u001b[0m \u001b[0maccuracies\u001b[0m\u001b[1;33m.\u001b[0m\u001b[0mappend\u001b[0m\u001b[1;33m(\u001b[0m\u001b[0mmodel\u001b[0m\u001b[1;33m.\u001b[0m\u001b[0maccuracy\u001b[0m\u001b[1;33m(\u001b[0m\u001b[0mX_train\u001b[0m\u001b[1;33m,\u001b[0m \u001b[0my_train\u001b[0m\u001b[1;33m)\u001b[0m\u001b[1;33m)\u001b[0m\u001b[1;33m\u001b[0m\u001b[1;33m\u001b[0m\u001b[0m\n\u001b[0;32m      4\u001b[0m \u001b[0maccuracies_test\u001b[0m\u001b[1;33m.\u001b[0m\u001b[0mappend\u001b[0m\u001b[1;33m(\u001b[0m\u001b[0mmodel\u001b[0m\u001b[1;33m.\u001b[0m\u001b[0maccuracy\u001b[0m\u001b[1;33m(\u001b[0m\u001b[0mX_test\u001b[0m\u001b[1;33m,\u001b[0m \u001b[0my_test\u001b[0m\u001b[1;33m)\u001b[0m\u001b[1;33m)\u001b[0m\u001b[1;33m\u001b[0m\u001b[1;33m\u001b[0m\u001b[0m\n\u001b[0;32m      5\u001b[0m \u001b[1;33m\u001b[0m\u001b[0m\n",
      "\u001b[1;32m<ipython-input-98-4a2dd76209b8>\u001b[0m in \u001b[0;36mloss\u001b[1;34m(self, X, y)\u001b[0m\n\u001b[0;32m     33\u001b[0m \u001b[1;33m\u001b[0m\u001b[0m\n\u001b[0;32m     34\u001b[0m     \u001b[1;32mdef\u001b[0m \u001b[0mloss\u001b[0m\u001b[1;33m(\u001b[0m\u001b[0mself\u001b[0m\u001b[1;33m,\u001b[0m \u001b[0mX\u001b[0m\u001b[1;33m,\u001b[0m \u001b[0my\u001b[0m\u001b[1;33m)\u001b[0m\u001b[1;33m:\u001b[0m\u001b[1;33m\u001b[0m\u001b[1;33m\u001b[0m\u001b[0m\n\u001b[1;32m---> 35\u001b[1;33m         \u001b[1;32mreturn\u001b[0m \u001b[0mnll\u001b[0m\u001b[1;33m(\u001b[0m\u001b[0mone_hot\u001b[0m\u001b[1;33m(\u001b[0m\u001b[0mself\u001b[0m\u001b[1;33m.\u001b[0m\u001b[0moutput_size\u001b[0m\u001b[1;33m,\u001b[0m \u001b[0my\u001b[0m\u001b[1;33m)\u001b[0m\u001b[1;33m,\u001b[0m \u001b[0mself\u001b[0m\u001b[1;33m.\u001b[0m\u001b[0mforward\u001b[0m\u001b[1;33m(\u001b[0m\u001b[0mX\u001b[0m\u001b[1;33m)\u001b[0m\u001b[1;33m)\u001b[0m\u001b[1;33m\u001b[0m\u001b[1;33m\u001b[0m\u001b[0m\n\u001b[0m\u001b[0;32m     36\u001b[0m \u001b[1;33m\u001b[0m\u001b[0m\n\u001b[0;32m     37\u001b[0m     \u001b[1;32mdef\u001b[0m \u001b[0mgrad_loss\u001b[0m\u001b[1;33m(\u001b[0m\u001b[0mself\u001b[0m\u001b[1;33m,\u001b[0m \u001b[0mX\u001b[0m\u001b[1;33m,\u001b[0m \u001b[0my_true\u001b[0m\u001b[1;33m)\u001b[0m\u001b[1;33m:\u001b[0m\u001b[1;33m\u001b[0m\u001b[1;33m\u001b[0m\u001b[0m\n",
      "\u001b[1;32m<ipython-input-98-4a2dd76209b8>\u001b[0m in \u001b[0;36mforward\u001b[1;34m(self, X)\u001b[0m\n\u001b[0;32m     18\u001b[0m         \u001b[0mz_h1\u001b[0m \u001b[1;33m=\u001b[0m \u001b[0mnp\u001b[0m\u001b[1;33m.\u001b[0m\u001b[0mdot\u001b[0m\u001b[1;33m(\u001b[0m\u001b[0mX\u001b[0m\u001b[1;33m,\u001b[0m \u001b[0mself\u001b[0m\u001b[1;33m.\u001b[0m\u001b[0mW_h1\u001b[0m\u001b[1;33m)\u001b[0m \u001b[1;33m+\u001b[0m \u001b[0mself\u001b[0m\u001b[1;33m.\u001b[0m\u001b[0mb_h1\u001b[0m\u001b[1;33m\u001b[0m\u001b[1;33m\u001b[0m\u001b[0m\n\u001b[0;32m     19\u001b[0m         \u001b[0mh1\u001b[0m \u001b[1;33m=\u001b[0m \u001b[0msigmoid\u001b[0m\u001b[1;33m(\u001b[0m\u001b[0mnp\u001b[0m\u001b[1;33m.\u001b[0m\u001b[0mdot\u001b[0m\u001b[1;33m(\u001b[0m\u001b[0mX\u001b[0m\u001b[1;33m,\u001b[0m \u001b[0mself\u001b[0m\u001b[1;33m.\u001b[0m\u001b[0mW_h1\u001b[0m\u001b[1;33m)\u001b[0m \u001b[1;33m+\u001b[0m \u001b[0mself\u001b[0m\u001b[1;33m.\u001b[0m\u001b[0mb_h1\u001b[0m\u001b[1;33m)\u001b[0m\u001b[1;33m\u001b[0m\u001b[1;33m\u001b[0m\u001b[0m\n\u001b[1;32m---> 20\u001b[1;33m         \u001b[0mz_h2\u001b[0m \u001b[1;33m=\u001b[0m \u001b[0mnp\u001b[0m\u001b[1;33m.\u001b[0m\u001b[0mdot\u001b[0m\u001b[1;33m(\u001b[0m\u001b[0mh1\u001b[0m\u001b[1;33m,\u001b[0m \u001b[0mself\u001b[0m\u001b[1;33m.\u001b[0m\u001b[0mW_h2\u001b[0m\u001b[1;33m)\u001b[0m \u001b[1;33m+\u001b[0m \u001b[0mself\u001b[0m\u001b[1;33m.\u001b[0m\u001b[0mb_h2\u001b[0m\u001b[1;33m\u001b[0m\u001b[1;33m\u001b[0m\u001b[0m\n\u001b[0m\u001b[0;32m     21\u001b[0m         \u001b[0mh2\u001b[0m \u001b[1;33m=\u001b[0m \u001b[0msigmoid\u001b[0m\u001b[1;33m(\u001b[0m\u001b[0mnp\u001b[0m\u001b[1;33m.\u001b[0m\u001b[0mdot\u001b[0m\u001b[1;33m(\u001b[0m\u001b[0mX\u001b[0m\u001b[1;33m,\u001b[0m \u001b[0mself\u001b[0m\u001b[1;33m.\u001b[0m\u001b[0mW_h2\u001b[0m\u001b[1;33m)\u001b[0m \u001b[1;33m+\u001b[0m \u001b[0mself\u001b[0m\u001b[1;33m.\u001b[0m\u001b[0mb_h2\u001b[0m\u001b[1;33m)\u001b[0m\u001b[1;33m\u001b[0m\u001b[1;33m\u001b[0m\u001b[0m\n\u001b[0;32m     22\u001b[0m         \u001b[0my\u001b[0m \u001b[1;33m=\u001b[0m \u001b[0msoftmax\u001b[0m\u001b[1;33m(\u001b[0m\u001b[0mnp\u001b[0m\u001b[1;33m.\u001b[0m\u001b[0mdot\u001b[0m\u001b[1;33m(\u001b[0m\u001b[0mh2\u001b[0m\u001b[1;33m,\u001b[0m \u001b[0mself\u001b[0m\u001b[1;33m.\u001b[0m\u001b[0mW_o\u001b[0m\u001b[1;33m)\u001b[0m \u001b[1;33m+\u001b[0m \u001b[0mself\u001b[0m\u001b[1;33m.\u001b[0m\u001b[0mb_o\u001b[0m\u001b[1;33m)\u001b[0m\u001b[1;33m\u001b[0m\u001b[1;33m\u001b[0m\u001b[0m\n",
      "\u001b[1;31mValueError\u001b[0m: shapes (1527,10) and (64,6) not aligned: 10 (dim 1) != 64 (dim 0)"
     ]
    }
   ],
   "source": [
    "losses, accuracies, accuracies_test = [], [], []\n",
    "losses.append(model.loss(X_train, y_train))\n",
    "accuracies.append(model.accuracy(X_train, y_train))\n",
    "accuracies_test.append(model.accuracy(X_test, y_test))\n",
    "\n",
    "print(\"Random init: train loss: %0.4f, train acc: %0.3f, test acc: %0.3f\"\n",
    "      % (losses[-1], accuracies[-1], accuracies_test[-1]))\n",
    "\n",
    "for epoch in range(30):\n",
    "    for i, (x, y) in enumerate(zip(X_train, y_train)):\n",
    "        model.train(x, y, 0.1)\n",
    "\n",
    "    losses.append(model.loss(X_train, y_train))\n",
    "    accuracies.append(model.accuracy(X_train, y_train))\n",
    "    accuracies_test.append(model.accuracy(X_test, y_test))\n",
    "    print(\"Epoch #%d, train loss: %0.4f, train acc: %0.3f, test acc: %0.3f\"\n",
    "          % (epoch + 1, losses[-1], accuracies[-1], accuracies_test[-1]))"
   ]
  },
  {
   "cell_type": "markdown",
   "metadata": {},
   "source": [
    "### Back to Keras\n",
    "\n",
    "- Implement the same network architecture with Keras;\n",
    "\n",
    "- Check that the Keras model can approximately reproduce the behavior of the Numpy model when using similar hyperparameter values (size of the model, type of activations, learning rate value and use of momentum);\n",
    "\n",
    "- Compute the negative log likelihood of a sample 42 in the test set (can use `model.predict_proba`);\n",
    "\n",
    "- Compute the average negative log-likelihood on the full test set.\n",
    "\n",
    "- Compute the average negative log-likelihood  on the full training set and check that you can get the value of the loss reported by Keras.\n",
    "\n",
    "- Is the model overfitting or underfitting? (ensure that the model has fully converged by increasing the number of epochs to 50 or more if necessary)."
   ]
  },
  {
   "cell_type": "code",
   "execution_count": 75,
   "metadata": {},
   "outputs": [
    {
     "name": "stderr",
     "output_type": "stream",
     "text": [
      "Using TensorFlow backend.\n",
      "C:\\Users\\Asus\\Anaconda3\\lib\\site-packages\\ipykernel_launcher.py:19: UserWarning: The `nb_epoch` argument in `fit` has been renamed `epochs`.\n"
     ]
    },
    {
     "name": "stdout",
     "output_type": "stream",
     "text": [
      "Epoch 1/15\n",
      "1527/1527 [==============================] - 0s 65us/step - loss: 0.7823 - accuracy: 0.8022\n",
      "Epoch 2/15\n",
      "1527/1527 [==============================] - 0s 33us/step - loss: 0.2751 - accuracy: 0.9391\n",
      "Epoch 3/15\n",
      "1527/1527 [==============================] - 0s 31us/step - loss: 0.1887 - accuracy: 0.9614\n",
      "Epoch 4/15\n",
      "1527/1527 [==============================] - 0s 32us/step - loss: 0.1466 - accuracy: 0.9718\n",
      "Epoch 5/15\n",
      "1527/1527 [==============================] - 0s 32us/step - loss: 0.1220 - accuracy: 0.9784\n",
      "Epoch 6/15\n",
      "1527/1527 [==============================] - 0s 30us/step - loss: 0.1042 - accuracy: 0.9830\n",
      "Epoch 7/15\n",
      "1527/1527 [==============================] - 0s 31us/step - loss: 0.0919 - accuracy: 0.9836\n",
      "Epoch 8/15\n",
      "1527/1527 [==============================] - 0s 31us/step - loss: 0.0816 - accuracy: 0.9876\n",
      "Epoch 9/15\n",
      "1527/1527 [==============================] - 0s 23us/step - loss: 0.0732 - accuracy: 0.9876\n",
      "Epoch 10/15\n",
      "1527/1527 [==============================] - 0s 26us/step - loss: 0.0662 - accuracy: 0.9889\n",
      "Epoch 11/15\n",
      "1527/1527 [==============================] - 0s 28us/step - loss: 0.0607 - accuracy: 0.9915\n",
      "Epoch 12/15\n",
      "1527/1527 [==============================] - 0s 29us/step - loss: 0.0555 - accuracy: 0.9928\n",
      "Epoch 13/15\n",
      "1527/1527 [==============================] - 0s 27us/step - loss: 0.0515 - accuracy: 0.9921\n",
      "Epoch 14/15\n",
      "1527/1527 [==============================] - 0s 33us/step - loss: 0.0476 - accuracy: 0.9941\n",
      "Epoch 15/15\n",
      "1527/1527 [==============================] - 0s 28us/step - loss: 0.0442 - accuracy: 0.9961\n"
     ]
    },
    {
     "data": {
      "text/plain": [
       "<keras.callbacks.callbacks.History at 0x16c5bae7668>"
      ]
     },
     "execution_count": 75,
     "metadata": {},
     "output_type": "execute_result"
    }
   ],
   "source": [
    "import keras\n",
    "from keras.models import Sequential\n",
    "from keras.layers.core import Dense, Activation\n",
    "from keras import optimizers\n",
    "\n",
    "N = X_train.shape[1]\n",
    "H = 100\n",
    "K = 10\n",
    "\n",
    "model = Sequential()\n",
    "model.add(Dense(H, input_dim=N))\n",
    "model.add(Activation(\"tanh\"))\n",
    "model.add(Dense(K))\n",
    "model.add(Activation(\"softmax\"))\n",
    "\n",
    "model.compile(optimizer=optimizers.SGD(lr=0.1),\n",
    "              loss='categorical_crossentropy', metrics=['accuracy'])\n",
    "\n",
    "model.fit(X_train, Y_train, nb_epoch=15, batch_size=32)"
   ]
  },
  {
   "cell_type": "code",
   "execution_count": 76,
   "metadata": {},
   "outputs": [
    {
     "name": "stdout",
     "output_type": "stream",
     "text": [
      "Train on 1221 samples, validate on 306 samples\n",
      "Epoch 1/6\n",
      "1221/1221 [==============================] - 0s 129us/step - loss: 1.4696 - accuracy: 0.6077 - val_loss: 0.7508 - val_accuracy: 0.8660\n",
      "Epoch 2/6\n",
      "1221/1221 [==============================] - 0s 47us/step - loss: 0.5749 - accuracy: 0.8788 - val_loss: 0.3644 - val_accuracy: 0.9281\n",
      "Epoch 3/6\n",
      "1221/1221 [==============================] - 0s 44us/step - loss: 0.2907 - accuracy: 0.9550 - val_loss: 0.2401 - val_accuracy: 0.9575\n",
      "Epoch 4/6\n",
      "1221/1221 [==============================] - 0s 48us/step - loss: 0.1742 - accuracy: 0.9697 - val_loss: 0.1725 - val_accuracy: 0.9739\n",
      "Epoch 5/6\n",
      "1221/1221 [==============================] - 0s 55us/step - loss: 0.1214 - accuracy: 0.9820 - val_loss: 0.1401 - val_accuracy: 0.9771\n",
      "Epoch 6/6\n",
      "1221/1221 [==============================] - 0s 52us/step - loss: 0.0893 - accuracy: 0.9885 - val_loss: 0.1239 - val_accuracy: 0.9771\n",
      "Train on 1221 samples, validate on 306 samples\n",
      "Epoch 1/8\n",
      "1221/1221 [==============================] - 0s 126us/step - loss: 1.5094 - accuracy: 0.5921 - val_loss: 0.7683 - val_accuracy: 0.8693\n",
      "Epoch 2/8\n",
      "1221/1221 [==============================] - 0s 45us/step - loss: 0.5331 - accuracy: 0.9115 - val_loss: 0.3308 - val_accuracy: 0.9444\n",
      "Epoch 3/8\n",
      "1221/1221 [==============================] - 0s 45us/step - loss: 0.2763 - accuracy: 0.9443 - val_loss: 0.2148 - val_accuracy: 0.9608\n",
      "Epoch 4/8\n",
      "1221/1221 [==============================] - 0s 47us/step - loss: 0.1831 - accuracy: 0.9599 - val_loss: 0.1681 - val_accuracy: 0.9641\n",
      "Epoch 5/8\n",
      "1221/1221 [==============================] - 0s 50us/step - loss: 0.1323 - accuracy: 0.9722 - val_loss: 0.1392 - val_accuracy: 0.9706\n",
      "Epoch 6/8\n",
      "1221/1221 [==============================] - 0s 59us/step - loss: 0.1015 - accuracy: 0.9803 - val_loss: 0.1225 - val_accuracy: 0.9706\n",
      "Epoch 7/8\n",
      "1221/1221 [==============================] - 0s 56us/step - loss: 0.0791 - accuracy: 0.9861 - val_loss: 0.1075 - val_accuracy: 0.9739\n",
      "Epoch 8/8\n",
      "1221/1221 [==============================] - 0s 53us/step - loss: 0.0632 - accuracy: 0.9926 - val_loss: 0.1007 - val_accuracy: 0.9771\n",
      "Train on 1221 samples, validate on 306 samples\n",
      "Epoch 1/10\n",
      "1221/1221 [==============================] - 0s 121us/step - loss: 1.5483 - accuracy: 0.5356 - val_loss: 0.8652 - val_accuracy: 0.8039\n",
      "Epoch 2/10\n",
      "1221/1221 [==============================] - 0s 43us/step - loss: 0.6150 - accuracy: 0.8739 - val_loss: 0.4207 - val_accuracy: 0.9085\n",
      "Epoch 3/10\n",
      "1221/1221 [==============================] - 0s 46us/step - loss: 0.3150 - accuracy: 0.9468 - val_loss: 0.2706 - val_accuracy: 0.9379\n",
      "Epoch 4/10\n",
      "1221/1221 [==============================] - 0s 49us/step - loss: 0.2006 - accuracy: 0.9640 - val_loss: 0.2025 - val_accuracy: 0.9542\n",
      "Epoch 5/10\n",
      "1221/1221 [==============================] - 0s 49us/step - loss: 0.1415 - accuracy: 0.9754 - val_loss: 0.1647 - val_accuracy: 0.9608\n",
      "Epoch 6/10\n",
      "1221/1221 [==============================] - 0s 53us/step - loss: 0.1067 - accuracy: 0.9820 - val_loss: 0.1437 - val_accuracy: 0.9673\n",
      "Epoch 7/10\n",
      "1221/1221 [==============================] - 0s 47us/step - loss: 0.0836 - accuracy: 0.9853 - val_loss: 0.1243 - val_accuracy: 0.9706\n",
      "Epoch 8/10\n",
      "1221/1221 [==============================] - 0s 46us/step - loss: 0.0663 - accuracy: 0.9902 - val_loss: 0.1129 - val_accuracy: 0.9804\n",
      "Epoch 9/10\n",
      "1221/1221 [==============================] - 0s 46us/step - loss: 0.0541 - accuracy: 0.9943 - val_loss: 0.1057 - val_accuracy: 0.9739\n",
      "Epoch 10/10\n",
      "1221/1221 [==============================] - 0s 52us/step - loss: 0.0441 - accuracy: 0.9959 - val_loss: 0.0970 - val_accuracy: 0.9804\n",
      "Train on 1221 samples, validate on 306 samples\n",
      "Epoch 1/12\n",
      "1221/1221 [==============================] - 0s 185us/step - loss: 1.5384 - accuracy: 0.5717 - val_loss: 0.8707 - val_accuracy: 0.8431\n",
      "Epoch 2/12\n",
      "1221/1221 [==============================] - 0s 57us/step - loss: 0.6064 - accuracy: 0.8731 - val_loss: 0.4148 - val_accuracy: 0.9150\n",
      "Epoch 3/12\n",
      "1221/1221 [==============================] - 0s 60us/step - loss: 0.3034 - accuracy: 0.9459 - val_loss: 0.2640 - val_accuracy: 0.9412\n",
      "Epoch 4/12\n",
      "1221/1221 [==============================] - 0s 54us/step - loss: 0.1871 - accuracy: 0.9713 - val_loss: 0.1969 - val_accuracy: 0.9542\n",
      "Epoch 5/12\n",
      "1221/1221 [==============================] - 0s 49us/step - loss: 0.1312 - accuracy: 0.9787 - val_loss: 0.1644 - val_accuracy: 0.9608\n",
      "Epoch 6/12\n",
      "1221/1221 [==============================] - 0s 56us/step - loss: 0.0988 - accuracy: 0.9861 - val_loss: 0.1384 - val_accuracy: 0.9706\n",
      "Epoch 7/12\n",
      "1221/1221 [==============================] - 0s 50us/step - loss: 0.0766 - accuracy: 0.9910 - val_loss: 0.1250 - val_accuracy: 0.9739\n",
      "Epoch 8/12\n",
      "1221/1221 [==============================] - 0s 47us/step - loss: 0.0602 - accuracy: 0.9934 - val_loss: 0.1144 - val_accuracy: 0.9771\n",
      "Epoch 9/12\n",
      "1221/1221 [==============================] - 0s 41us/step - loss: 0.0488 - accuracy: 0.9967 - val_loss: 0.1093 - val_accuracy: 0.9739\n",
      "Epoch 10/12\n",
      "1221/1221 [==============================] - 0s 47us/step - loss: 0.0394 - accuracy: 0.9967 - val_loss: 0.1020 - val_accuracy: 0.9804\n",
      "Epoch 11/12\n",
      "1221/1221 [==============================] - 0s 48us/step - loss: 0.0326 - accuracy: 0.9975 - val_loss: 0.0985 - val_accuracy: 0.9804\n",
      "Epoch 12/12\n",
      "1221/1221 [==============================] - 0s 45us/step - loss: 0.0271 - accuracy: 0.9975 - val_loss: 0.0939 - val_accuracy: 0.9804\n"
     ]
    },
    {
     "data": {
      "image/png": "[encoded data removed]",
      "text/plain": [
       "<Figure size 432x288 with 1 Axes>"
      ]
     },
     "metadata": {
      "needs_background": "light"
     },
     "output_type": "display_data"
    }
   ],
   "source": [
    "for i in [6,8,10,12]:\n",
    "    model = Sequential()\n",
    "    model.add(Dense(H, input_dim=N))\n",
    "    model.add(Activation(\"tanh\"))\n",
    "    model.add(Dense(N, activation='relu'))\n",
    "    model.add(Dense(K))\n",
    "    model.add(Activation(\"softmax\"))\n",
    "\n",
    "    model.compile(optimizer='adam',loss='categorical_crossentropy', metrics=['accuracy'])\n",
    "\n",
    "    model.fit(X_train, Y_train, epochs=i, batch_size=32,validation_split=0.2)\n",
    "\n",
    "    lines=plt.plot(range(0,i,1),model.history.history[\"val_accuracy\"])\n",
    "    \n",
    "    plt.legend( ['epochs = 6', 'epochs = 8','epochs = 10', 'epochs = 12']);"
   ]
  },
  {
   "cell_type": "code",
   "execution_count": 77,
   "metadata": {
    "scrolled": true
   },
   "outputs": [
    {
     "name": "stdout",
     "output_type": "stream",
     "text": [
      "Conditional probabilities of sample nb 42\n",
      "Negative log-likelihood of sample nb 42\n"
     ]
    },
    {
     "data": {
      "text/plain": [
       "0.99807215"
      ]
     },
     "execution_count": 77,
     "metadata": {},
     "output_type": "execute_result"
    }
   ],
   "source": [
    "# id idx\n",
    "idx = 42\n",
    "# Conditional proba for test sample \n",
    "y_pred_proba = model.predict_proba(X_test, verbose=0)\n",
    "print('Conditional probabilities of sample nb %d'%idx)\n",
    "np.around(y_pred_proba[42], 5)\n",
    "print('Negative log-likelihood of sample nb %d'%idx)\n",
    "y_pred_proba[idx, y_test[idx]] # relevant with above"
   ]
  },
  {
   "cell_type": "code",
   "execution_count": 78,
   "metadata": {},
   "outputs": [
    {
     "name": "stdout",
     "output_type": "stream",
     "text": [
      "Negative log-likelihood on test set: 0.0752\n"
     ]
    }
   ],
   "source": [
    "Y_test = to_categorical(y_test)\n",
    "ll = np.sum(np.log(y_pred_proba) * Y_test, axis=1)\n",
    "print('Negative log-likelihood on test set: %0.4f'%-np.mean(ll))"
   ]
  },
  {
   "cell_type": "markdown",
   "metadata": {
    "collapsed": true
   },
   "source": [
    "## Exercice 2. Impact of initialization\n",
    "\n",
    "Let us now study the impact of a bad initialization when training\n",
    "a deep feed forward network.\n",
    "\n",
    "By default Keras dense layers use the \"Glorot Uniform\" initialization\n",
    "strategy to initialize the weight matrices:\n",
    "\n",
    "- each weight coefficient is randomly sampled from [-scale, scale]\n",
    "- scale is proportional to $\\frac{1}{\\sqrt{n_{in} + n_{out}}}$\n",
    "\n",
    "This strategy is known to work well to initialize deep neural networks\n",
    "with \"tanh\" or \"relu\" activation functions and then trained with\n",
    "standard SGD.\n",
    "\n",
    "To assess the impact of initialization let us plug an alternative init\n",
    "scheme into a 2 hidden layers networks with \"tanh\" activations.\n",
    "For the sake of the example let's use normal distributed weights\n",
    "with a manually adjustable scale (standard deviation) and see the\n",
    "impact the scale value:"
   ]
  },
  {
   "cell_type": "code",
   "execution_count": 44,
   "metadata": {},
   "outputs": [],
   "source": [
    "from tensorflow.keras.models import Sequential\n",
    "from tensorflow.keras.layers import Dense, Activation\n",
    "from tensorflow.keras import optimizers\n",
    "from tensorflow.keras import initializers"
   ]
  },
  {
   "cell_type": "code",
   "execution_count": 45,
   "metadata": {},
   "outputs": [],
   "source": [
    "from tensorflow.keras.utils import to_categorical\n",
    "\n",
    "Y_train = to_categorical(y_train)"
   ]
  },
  {
   "cell_type": "code",
   "execution_count": 67,
   "metadata": {},
   "outputs": [
    {
     "name": "stdout",
     "output_type": "stream",
     "text": [
      "Train on 1527 samples\n",
      "Epoch 1/10\n",
      "1527/1527 [==============================] - 0s 255us/sample - loss: 2.3035\n",
      "Epoch 2/10\n",
      "1527/1527 [==============================] - 0s 40us/sample - loss: 2.3024\n",
      "Epoch 3/10\n",
      "1527/1527 [==============================] - 0s 41us/sample - loss: 2.3009\n",
      "Epoch 4/10\n",
      "1527/1527 [==============================] - 0s 40us/sample - loss: 2.2933\n",
      "Epoch 5/10\n",
      "1527/1527 [==============================] - 0s 45us/sample - loss: 2.1859\n",
      "Epoch 6/10\n",
      "1527/1527 [==============================] - 0s 47us/sample - loss: 1.8892\n",
      "Epoch 7/10\n",
      "1527/1527 [==============================] - 0s 44us/sample - loss: 1.5936\n",
      "Epoch 8/10\n",
      "1527/1527 [==============================] - 0s 37us/sample - loss: 1.3306\n",
      "Epoch 9/10\n",
      "1527/1527 [==============================] - 0s 33us/sample - loss: 1.0965\n",
      "Epoch 10/10\n",
      "1527/1527 [==============================] - 0s 43us/sample - loss: 0.8923\n"
     ]
    }
   ],
   "source": [
    "N = X_train.shape[1]\n",
    "H = 100\n",
    "K = 10\n",
    "\n",
    "normal_init = initializers.RandomNormal(stddev=0.01)\n",
    "\n",
    "model = Sequential()\n",
    "model.add(Dense(H, input_dim=N, kernel_initializer=normal_init))\n",
    "model.add(Activation(\"tanh\"))\n",
    "model.add(Dense(K, kernel_initializer=normal_init))\n",
    "model.add(Activation(\"tanh\"))\n",
    "model.add(Dense(K, kernel_initializer=normal_init))\n",
    "model.add(Activation(\"softmax\"))\n",
    "\n",
    "model.compile(optimizer=optimizers.SGD(lr=0.1),\n",
    "              loss='categorical_crossentropy')\n",
    "\n",
    "history = model.fit(X_train, Y_train,\n",
    "                    epochs=10, batch_size=32)"
   ]
  },
  {
   "cell_type": "markdown",
   "metadata": {},
   "source": [
    "#### Questions:\n",
    "\n",
    "- Try the following initialization schemes and see whether\n",
    "  the SGD algorithm can successfully train the network or\n",
    "  not:\n",
    "  \n",
    "  - a very small e.g. `scale=1e-3`\n",
    "  - a larger scale e.g. `scale=1` or `10`\n",
    "  - initialize all weights to 0 (constant initialization)\n",
    "  \n",
    "- What do you observe? Can you find an explanation for those\n",
    "  outcomes?\n",
    "\n",
    "- Are better solvers such as SGD with momentum or Adam able\n",
    "  to deal better with such bad initializations?"
   ]
  },
  {
   "cell_type": "markdown",
   "metadata": {},
   "source": [
    "## - very small e.g. scale=1e-3"
   ]
  },
  {
   "cell_type": "code",
   "execution_count": 68,
   "metadata": {
    "scrolled": true
   },
   "outputs": [
    {
     "name": "stdout",
     "output_type": "stream",
     "text": [
      "Train on 1527 samples\n",
      "Epoch 1/10\n",
      "1527/1527 [==============================] - 0s 202us/sample - loss: 2.3034\n",
      "Epoch 2/10\n",
      "1527/1527 [==============================] - 0s 39us/sample - loss: 2.3030\n",
      "Epoch 3/10\n",
      "1527/1527 [==============================] - 0s 37us/sample - loss: 2.3031\n",
      "Epoch 4/10\n",
      "1527/1527 [==============================] - 0s 36us/sample - loss: 2.3029\n",
      "Epoch 5/10\n",
      "1527/1527 [==============================] - 0s 39us/sample - loss: 2.3029\n",
      "Epoch 6/10\n",
      "1527/1527 [==============================] - 0s 36us/sample - loss: 2.3028\n",
      "Epoch 7/10\n",
      "1527/1527 [==============================] - 0s 39us/sample - loss: 2.3030\n",
      "Epoch 8/10\n",
      "1527/1527 [==============================] - 0s 36us/sample - loss: 2.3028\n",
      "Epoch 9/10\n",
      "1527/1527 [==============================] - 0s 34us/sample - loss: 2.3028\n",
      "Epoch 10/10\n",
      "1527/1527 [==============================] - 0s 39us/sample - loss: 2.3026\n"
     ]
    }
   ],
   "source": [
    "##stddev = sqrt(scale / n)\n",
    "\n",
    "stddev = np.sqrt(0.001 / N)\n",
    "\n",
    "normal_init1 = initializers.RandomNormal(stddev=stddev)\n",
    "\n",
    "model = Sequential()\n",
    "model.add(Dense(H, input_dim=N, kernel_initializer=normal_init1))\n",
    "model.add(Activation(\"tanh\"))\n",
    "model.add(Dense(K, kernel_initializer=normal_init1))\n",
    "model.add(Activation(\"tanh\"))\n",
    "model.add(Dense(K, kernel_initializer=normal_init1))\n",
    "model.add(Activation(\"softmax\"))\n",
    "\n",
    "model.compile(optimizer=optimizers.SGD(lr=0.1),\n",
    "              loss='categorical_crossentropy')\n",
    "\n",
    "history = model.fit(X_train, Y_train,\n",
    "                    epochs=10, batch_size=32)"
   ]
  },
  {
   "cell_type": "markdown",
   "metadata": {},
   "source": [
    "## - larger scale e.g. scale=1 or 10"
   ]
  },
  {
   "cell_type": "code",
   "execution_count": 69,
   "metadata": {
    "scrolled": true
   },
   "outputs": [
    {
     "name": "stdout",
     "output_type": "stream",
     "text": [
      "Train on 1527 samples\n",
      "Epoch 1/10\n",
      "1527/1527 [==============================] - 0s 155us/sample - loss: 1.8497\n",
      "Epoch 2/10\n",
      "1527/1527 [==============================] - 0s 41us/sample - loss: 1.0683\n",
      "Epoch 3/10\n",
      "1527/1527 [==============================] - 0s 41us/sample - loss: 0.6173\n",
      "Epoch 4/10\n",
      "1527/1527 [==============================] - 0s 39us/sample - loss: 0.4028\n",
      "Epoch 5/10\n",
      "1527/1527 [==============================] - 0s 40us/sample - loss: 0.2937\n",
      "Epoch 6/10\n",
      "1527/1527 [==============================] - 0s 41us/sample - loss: 0.2311\n",
      "Epoch 7/10\n",
      "1527/1527 [==============================] - 0s 38us/sample - loss: 0.1897\n",
      "Epoch 8/10\n",
      "1527/1527 [==============================] - 0s 38us/sample - loss: 0.1606\n",
      "Epoch 9/10\n",
      "1527/1527 [==============================] - 0s 38us/sample - loss: 0.1393\n",
      "Epoch 10/10\n",
      "1527/1527 [==============================] - 0s 41us/sample - loss: 0.1227\n"
     ]
    }
   ],
   "source": [
    "##stddev = sqrt(scale / n)\n",
    "\n",
    "stddev = np.sqrt(1 / N)\n",
    "\n",
    "normal_init2 = initializers.RandomNormal(stddev=stddev)\n",
    "\n",
    "model = Sequential()\n",
    "model.add(Dense(H, input_dim=N, kernel_initializer=normal_init2))\n",
    "model.add(Activation(\"tanh\"))\n",
    "model.add(Dense(K, kernel_initializer=normal_init2))\n",
    "model.add(Activation(\"tanh\"))\n",
    "model.add(Dense(K, kernel_initializer=normal_init2))\n",
    "model.add(Activation(\"softmax\"))\n",
    "\n",
    "model.compile(optimizer=optimizers.SGD(lr=0.1),\n",
    "              loss='categorical_crossentropy')\n",
    "\n",
    "history = model.fit(X_train, Y_train,\n",
    "                    epochs=10, batch_size=32)"
   ]
  },
  {
   "cell_type": "code",
   "execution_count": 70,
   "metadata": {
    "scrolled": true
   },
   "outputs": [
    {
     "name": "stdout",
     "output_type": "stream",
     "text": [
      "Train on 1527 samples\n",
      "Epoch 1/10\n",
      "1527/1527 [==============================] - 0s 154us/sample - loss: 1.7672\n",
      "Epoch 2/10\n",
      "1527/1527 [==============================] - 0s 39us/sample - loss: 1.0195\n",
      "Epoch 3/10\n",
      "1527/1527 [==============================] - 0s 40us/sample - loss: 0.7443\n",
      "Epoch 4/10\n",
      "1527/1527 [==============================] - 0s 38us/sample - loss: 0.5692\n",
      "Epoch 5/10\n",
      "1527/1527 [==============================] - 0s 38us/sample - loss: 0.4521\n",
      "Epoch 6/10\n",
      "1527/1527 [==============================] - 0s 41us/sample - loss: 0.3684\n",
      "Epoch 7/10\n",
      "1527/1527 [==============================] - 0s 36us/sample - loss: 0.3096\n",
      "Epoch 8/10\n",
      "1527/1527 [==============================] - 0s 40us/sample - loss: 0.2655\n",
      "Epoch 9/10\n",
      "1527/1527 [==============================] - 0s 36us/sample - loss: 0.2295\n",
      "Epoch 10/10\n",
      "1527/1527 [==============================] - 0s 40us/sample - loss: 0.2008\n"
     ]
    }
   ],
   "source": [
    "##stddev = sqrt(scale / n)\n",
    "\n",
    "stddev = np.sqrt(10 / N)\n",
    "\n",
    "normal_init3 = initializers.RandomNormal(stddev=stddev)\n",
    "\n",
    "model = Sequential()\n",
    "model.add(Dense(H, input_dim=N, kernel_initializer=normal_init3))\n",
    "model.add(Activation(\"tanh\"))\n",
    "model.add(Dense(K, kernel_initializer=normal_init3))\n",
    "model.add(Activation(\"tanh\"))\n",
    "model.add(Dense(K, kernel_initializer=normal_init3))\n",
    "model.add(Activation(\"softmax\"))\n",
    "\n",
    "model.compile(optimizer=optimizers.SGD(lr=0.1),\n",
    "              loss='categorical_crossentropy')\n",
    "\n",
    "history = model.fit(X_train, Y_train,\n",
    "                    epochs=10, batch_size=32)"
   ]
  },
  {
   "cell_type": "markdown",
   "metadata": {},
   "source": [
    "## initialize all weights to 0 (constant initialization)"
   ]
  },
  {
   "cell_type": "code",
   "execution_count": 71,
   "metadata": {
    "scrolled": true
   },
   "outputs": [
    {
     "name": "stdout",
     "output_type": "stream",
     "text": [
      "Train on 1527 samples\n",
      "Epoch 1/10\n",
      "1527/1527 [==============================] - 0s 155us/sample - loss: 2.3035\n",
      "Epoch 2/10\n",
      "1527/1527 [==============================] - 0s 40us/sample - loss: 2.3033\n",
      "Epoch 3/10\n",
      "1527/1527 [==============================] - 0s 39us/sample - loss: 2.3032\n",
      "Epoch 4/10\n",
      "1527/1527 [==============================] - 0s 39us/sample - loss: 2.3032\n",
      "Epoch 5/10\n",
      "1527/1527 [==============================] - 0s 38us/sample - loss: 2.3030\n",
      "Epoch 6/10\n",
      "1527/1527 [==============================] - 0s 40us/sample - loss: 2.3028\n",
      "Epoch 7/10\n",
      "1527/1527 [==============================] - 0s 41us/sample - loss: 2.3030\n",
      "Epoch 8/10\n",
      "1527/1527 [==============================] - 0s 38us/sample - loss: 2.3030\n",
      "Epoch 9/10\n",
      "1527/1527 [==============================] - 0s 40us/sample - loss: 2.3030\n",
      "Epoch 10/10\n",
      "1527/1527 [==============================] - 0s 42us/sample - loss: 2.3032\n"
     ]
    }
   ],
   "source": [
    "model = Sequential()\n",
    "model.add(Dense(H, input_dim=N, kernel_initializer='zeros'))\n",
    "model.add(Activation(\"tanh\"))\n",
    "model.add(Dense(K, kernel_initializer='zeros'))\n",
    "model.add(Activation(\"tanh\"))\n",
    "model.add(Dense(K, kernel_initializer='zeros'))\n",
    "model.add(Activation(\"softmax\"))\n",
    "\n",
    "model.compile(optimizer=optimizers.SGD(lr=0.1),\n",
    "              loss='categorical_crossentropy')\n",
    "\n",
    "history = model.fit(X_train, Y_train,\n",
    "                    epochs=10, batch_size=32)"
   ]
  },
  {
   "cell_type": "markdown",
   "metadata": {},
   "source": [
    "- Dans le cas où on fait une grande ou petite initialisation, le loss diffère largement. Pour une petite init, ça reste difficile de réduire le loss. Pour une grande init, on a un loss qui est trop prêt du 0, le model est plus confiant.\n",
    "- Initialisation à 0, c'est difficile de faire l'apprentissage du model car le loss ne change pas"
   ]
  },
  {
   "cell_type": "code",
   "execution_count": 74,
   "metadata": {},
   "outputs": [
    {
     "name": "stdout",
     "output_type": "stream",
     "text": [
      "Train on 1527 samples\n",
      "Epoch 1/10\n",
      "1527/1527 [==============================] - 0s 159us/sample - loss: 2.3035\n",
      "Epoch 2/10\n",
      "1527/1527 [==============================] - 0s 36us/sample - loss: 2.3030\n",
      "Epoch 3/10\n",
      "1527/1527 [==============================] - 0s 41us/sample - loss: 2.3031\n",
      "Epoch 4/10\n",
      "1527/1527 [==============================] - 0s 36us/sample - loss: 2.3029\n",
      "Epoch 5/10\n",
      "1527/1527 [==============================] - 0s 34us/sample - loss: 2.3030\n",
      "Epoch 6/10\n",
      "1527/1527 [==============================] - 0s 33us/sample - loss: 2.3029\n",
      "Epoch 7/10\n",
      "1527/1527 [==============================] - 0s 35us/sample - loss: 2.3029\n",
      "Epoch 8/10\n",
      "1527/1527 [==============================] - 0s 37us/sample - loss: 2.3030\n",
      "Epoch 9/10\n",
      "1527/1527 [==============================] - 0s 33us/sample - loss: 2.3027\n",
      "Epoch 10/10\n",
      "1527/1527 [==============================] - 0s 33us/sample - loss: 2.3028\n",
      "Train on 1527 samples\n",
      "Epoch 1/10\n",
      "1527/1527 [==============================] - 0s 116us/sample - loss: 1.8480\n",
      "Epoch 2/10\n",
      "1527/1527 [==============================] - 0s 37us/sample - loss: 1.0670\n",
      "Epoch 3/10\n",
      "1527/1527 [==============================] - 0s 44us/sample - loss: 0.6600\n",
      "Epoch 4/10\n",
      "1527/1527 [==============================] - 0s 54us/sample - loss: 0.4545\n",
      "Epoch 5/10\n",
      "1527/1527 [==============================] - 0s 42us/sample - loss: 0.3395\n",
      "Epoch 6/10\n",
      "1527/1527 [==============================] - 0s 46us/sample - loss: 0.2679\n",
      "Epoch 7/10\n",
      "1527/1527 [==============================] - 0s 43us/sample - loss: 0.2196\n",
      "Epoch 8/10\n",
      "1527/1527 [==============================] - 0s 44us/sample - loss: 0.1855\n",
      "Epoch 9/10\n",
      "1527/1527 [==============================] - 0s 53us/sample - loss: 0.1589\n",
      "Epoch 10/10\n",
      "1527/1527 [==============================] - 0s 48us/sample - loss: 0.1395\n",
      "Train on 1527 samples\n",
      "Epoch 1/10\n",
      "1527/1527 [==============================] - 0s 125us/sample - loss: 1.9297\n",
      "Epoch 2/10\n",
      "1527/1527 [==============================] - 0s 53us/sample - loss: 1.1444\n",
      "Epoch 3/10\n",
      "1527/1527 [==============================] - 0s 40us/sample - loss: 0.8341\n",
      "Epoch 4/10\n",
      "1527/1527 [==============================] - 0s 34us/sample - loss: 0.6515\n",
      "Epoch 5/10\n",
      "1527/1527 [==============================] - 0s 37us/sample - loss: 0.5286\n",
      "Epoch 6/10\n",
      "1527/1527 [==============================] - 0s 37us/sample - loss: 0.4422\n",
      "Epoch 7/10\n",
      "1527/1527 [==============================] - 0s 50us/sample - loss: 0.3754\n",
      "Epoch 8/10\n",
      "1527/1527 [==============================] - 0s 49us/sample - loss: 0.3252\n",
      "Epoch 9/10\n",
      "1527/1527 [==============================] - 0s 39us/sample - loss: 0.2856\n",
      "Epoch 10/10\n",
      "1527/1527 [==============================] - 0s 38us/sample - loss: 0.2538\n",
      "Train on 1527 samples\n",
      "Epoch 1/10\n",
      "1527/1527 [==============================] - 0s 124us/sample - loss: 2.3034\n",
      "Epoch 2/10\n",
      "1527/1527 [==============================] - 0s 36us/sample - loss: 2.3034\n",
      "Epoch 3/10\n",
      "1527/1527 [==============================] - 0s 50us/sample - loss: 2.3031\n",
      "Epoch 4/10\n",
      "1527/1527 [==============================] - 0s 47us/sample - loss: 2.3031\n",
      "Epoch 5/10\n",
      "1527/1527 [==============================] - 0s 50us/sample - loss: 2.3030\n",
      "Epoch 6/10\n",
      "1527/1527 [==============================] - 0s 36us/sample - loss: 2.3030\n",
      "Epoch 7/10\n",
      "1527/1527 [==============================] - 0s 44us/sample - loss: 2.3029\n",
      "Epoch 8/10\n",
      "1527/1527 [==============================] - 0s 47us/sample - loss: 2.3030\n",
      "Epoch 9/10\n",
      "1527/1527 [==============================] - 0s 47us/sample - loss: 2.3029\n",
      "Epoch 10/10\n",
      "1527/1527 [==============================] - 0s 41us/sample - loss: 2.3029\n",
      "Train on 1527 samples\n",
      "Epoch 1/10\n",
      "1527/1527 [==============================] - 0s 238us/sample - loss: 2.2151\n",
      "Epoch 2/10\n",
      "1527/1527 [==============================] - 0s 52us/sample - loss: 1.8812\n",
      "Epoch 3/10\n",
      "1527/1527 [==============================] - 0s 48us/sample - loss: 1.6416\n",
      "Epoch 4/10\n",
      "1527/1527 [==============================] - 0s 49us/sample - loss: 1.4733\n",
      "Epoch 5/10\n",
      "1527/1527 [==============================] - 0s 50us/sample - loss: 1.3379\n",
      "Epoch 6/10\n",
      "1527/1527 [==============================] - 0s 45us/sample - loss: 1.2283\n",
      "Epoch 7/10\n",
      "1527/1527 [==============================] - 0s 54us/sample - loss: 1.1426\n",
      "Epoch 8/10\n",
      "1527/1527 [==============================] - 0s 65us/sample - loss: 1.0685\n",
      "Epoch 9/10\n",
      "1527/1527 [==============================] - 0s 63us/sample - loss: 1.0027\n",
      "Epoch 10/10\n",
      "1527/1527 [==============================] - 0s 60us/sample - loss: 0.9474\n",
      "Train on 1527 samples\n",
      "Epoch 1/10\n",
      "1527/1527 [==============================] - 0s 248us/sample - loss: 1.6566\n",
      "Epoch 2/10\n",
      "1527/1527 [==============================] - 0s 38us/sample - loss: 0.9700\n",
      "Epoch 3/10\n",
      "1527/1527 [==============================] - 0s 39us/sample - loss: 0.6526\n",
      "Epoch 4/10\n",
      "1527/1527 [==============================] - 0s 38us/sample - loss: 0.4766\n",
      "Epoch 5/10\n",
      "1527/1527 [==============================] - 0s 41us/sample - loss: 0.3635\n",
      "Epoch 6/10\n",
      "1527/1527 [==============================] - 0s 41us/sample - loss: 0.2909\n",
      "Epoch 7/10\n",
      "1527/1527 [==============================] - 0s 39us/sample - loss: 0.2379\n",
      "Epoch 8/10\n",
      "1527/1527 [==============================] - 0s 46us/sample - loss: 0.2006\n",
      "Epoch 9/10\n",
      "1527/1527 [==============================] - 0s 46us/sample - loss: 0.1705\n",
      "Epoch 10/10\n",
      "1527/1527 [==============================] - 0s 54us/sample - loss: 0.1477\n",
      "Train on 1527 samples\n",
      "Epoch 1/10\n",
      "1527/1527 [==============================] - 0s 318us/sample - loss: 1.7274\n",
      "Epoch 2/10\n",
      "1527/1527 [==============================] - 0s 38us/sample - loss: 0.8939\n",
      "Epoch 3/10\n",
      "1527/1527 [==============================] - 0s 49us/sample - loss: 0.6411\n",
      "Epoch 4/10\n",
      "1527/1527 [==============================] - 0s 55us/sample - loss: 0.5040\n",
      "Epoch 5/10\n",
      "1527/1527 [==============================] - 0s 47us/sample - loss: 0.4140\n",
      "Epoch 6/10\n",
      "1527/1527 [==============================] - 0s 39us/sample - loss: 0.3474\n",
      "Epoch 7/10\n",
      "1527/1527 [==============================] - 0s 39us/sample - loss: 0.2975\n",
      "Epoch 8/10\n",
      "1527/1527 [==============================] - 0s 35us/sample - loss: 0.2592\n",
      "Epoch 9/10\n",
      "1527/1527 [==============================] - 0s 37us/sample - loss: 0.2274\n",
      "Epoch 10/10\n",
      "1527/1527 [==============================] - 0s 39us/sample - loss: 0.2012\n",
      "Train on 1527 samples\n",
      "Epoch 1/10\n",
      "1527/1527 [==============================] - 0s 194us/sample - loss: 2.3037\n",
      "Epoch 2/10\n",
      "1527/1527 [==============================] - 0s 37us/sample - loss: 2.3025\n",
      "Epoch 3/10\n",
      "1527/1527 [==============================] - 0s 38us/sample - loss: 2.3024\n",
      "Epoch 4/10\n",
      "1527/1527 [==============================] - 0s 44us/sample - loss: 2.3020\n",
      "Epoch 5/10\n",
      "1527/1527 [==============================] - 0s 43us/sample - loss: 2.3021\n",
      "Epoch 6/10\n",
      "1527/1527 [==============================] - 0s 46us/sample - loss: 2.3021\n",
      "Epoch 7/10\n",
      "1527/1527 [==============================] - 0s 41us/sample - loss: 2.3021\n",
      "Epoch 8/10\n",
      "1527/1527 [==============================] - 0s 41us/sample - loss: 2.3021\n",
      "Epoch 9/10\n",
      "1527/1527 [==============================] - 0s 39us/sample - loss: 2.3021\n",
      "Epoch 10/10\n",
      "1527/1527 [==============================] - 0s 36us/sample - loss: 2.3019\n"
     ]
    },
    {
     "data": {
      "image/png": "[encoded data removed]",
      "text/plain": [
       "<Figure size 864x432 with 1 Axes>"
      ]
     },
     "metadata": {
      "needs_background": "light"
     },
     "output_type": "display_data"
    },
    {
     "data": {
      "image/png": "[encoded data removed]",
      "text/plain": [
       "<Figure size 864x432 with 1 Axes>"
      ]
     },
     "metadata": {
      "needs_background": "light"
     },
     "output_type": "display_data"
    }
   ],
   "source": [
    "\n",
    "stddev3 = np.sqrt(10 / N)\n",
    "normal_init3 = initializers.RandomNormal(stddev=stddev3)\n",
    "\n",
    "stddev2 = np.sqrt(1 / N)\n",
    "normal_init2 = initializers.RandomNormal(stddev=stddev2)\n",
    "\n",
    "stddev1 = np.sqrt(0.001 / N)\n",
    "normal_init1 = initializers.RandomNormal(stddev=stddev1)\n",
    "\n",
    "optimizer_list = [\n",
    "    ('SGD', optimizers.SGD(lr=0.1)),\n",
    "    ('Adam', optimizers.Adam())\n",
    "]\n",
    "\n",
    "init_list = [\n",
    "    ('init scale=0.001', normal_init1, '-'),\n",
    "    ('init scale=1', normal_init2, '-'),\n",
    "    ('init scale=10', normal_init3, '-'),\n",
    "    ('zero init', 'zeros', '--'),\n",
    "]\n",
    "\n",
    "for optimizer_name, optimizer in optimizer_list:\n",
    "    plt.figure(figsize=(12, 6))\n",
    "    for init_name, init, linestyle in init_list:\n",
    "        model = Sequential()\n",
    "        model.add(Dense(H, input_dim=N, kernel_initializer=init))\n",
    "        model.add(Activation(\"tanh\"))\n",
    "        model.add(Dense(K, kernel_initializer=init))\n",
    "        model.add(Activation(\"tanh\"))\n",
    "        model.add(Dense(K, kernel_initializer=init))\n",
    "        model.add(Activation(\"softmax\"))\n",
    "        \n",
    "        model.compile(optimizer=optimizer,\n",
    "                      loss='categorical_crossentropy')\n",
    "\n",
    "        history = model.fit(X_train, Y_train,\n",
    "                            epochs=10, batch_size=32)\n",
    "        plt.plot(history.history['loss'], linestyle=linestyle,\n",
    "                 label=init_name)\n",
    "\n",
    "    plt.xlabel('# epochs')\n",
    "    plt.ylabel('Loss')\n",
    "    plt.ylim(0, 4)\n",
    "    plt.legend(loc='best');\n",
    "    plt.title('Optimizer: %s'\n",
    "              % optimizer_name)"
   ]
  },
  {
   "cell_type": "markdown",
   "metadata": {},
   "source": [
    "Adam a tendance à être plus robuste en cas de mauvaise initialisation grâce à ses ajustements du taux d’apprentissage par poids, mais bénéficie toujours d’une bonne initialisation."
   ]
  }
 ],
 "metadata": {
  "kernelspec": {
   "display_name": "Python 3",
   "language": "python",
   "name": "python3"
  },
  "language_info": {
   "codemirror_mode": {
    "name": "ipython",
    "version": 3
   },
   "file_extension": ".py",
   "mimetype": "text/x-python",
   "name": "python",
   "nbconvert_exporter": "python",
   "pygments_lexer": "ipython3",
   "version": "3.7.3"
  }
 },
 "nbformat": 4,
 "nbformat_minor": 2
}
